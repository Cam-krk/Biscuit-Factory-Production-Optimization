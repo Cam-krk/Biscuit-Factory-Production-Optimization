{
  "cells": [
    {
      "cell_type": "code",
      "execution_count": 1,
      "metadata": {
        "id": "KpaAOnLiCdUq"
      },
      "outputs": [],
      "source": [
        "import pandas as pd\n",
        "\n",
        "class BiscuitPlacementProblem:\n",
        "    def __init__(self, roll_length, defect_file):\n",
        "        self.roll_length = roll_length  \n",
        "        self.defects = self.load_defects(defect_file)\n",
        "        self.placed_biscuits = []\n",
        "        self.biscuit_types = []\n",
        "\n",
        "    def load_defects(self, defect_file):\n",
        "\n",
        "        defects_df = pd.read_csv(defect_file, sep=',')\n",
        "        defects = defects_df.groupby('class')['x'].apply(list).to_dict()\n",
        "        return {cls: sorted(positions) for cls, positions in defects.items()}\n",
        "\n",
        "    def add_biscuit_type(self, biscuit):\n",
        "        self.biscuit_types.append(biscuit)\n",
        "\n",
        "    def is_valid_placement(self, position, biscuit):\n",
        "        if position < 0 or position + biscuit.length > self.roll_length:\n",
        "            return False\n",
        "\n",
        "\n",
        "        overlap = any(b.position < position + biscuit.length and b.position + b.length > position\n",
        "                      for b in self.placed_biscuits)\n",
        "        if overlap:\n",
        "            return False\n",
        "\n",
        "\n",
        "        for defect_class, threshold in biscuit.max_defects.items():\n",
        "            defects_in_range = sum(1 for pos in self.defects.get(defect_class, [])\n",
        "                                   if position <= pos < position + biscuit.length)\n",
        "            if defects_in_range > threshold:\n",
        "                return False\n",
        "\n",
        "        return True\n",
        "\n",
        "    def place_biscuit(self, biscuit, position):\n",
        "        if self.is_valid_placement(position, biscuit):\n",
        "            biscuit_instance = Biscuit(biscuit.name, biscuit.length, biscuit.value, biscuit.max_defects, position)\n",
        "            self.placed_biscuits.append(biscuit_instance)\n",
        "            return True\n",
        "        return False\n",
        "\n",
        "    def total_value(self):\n",
        "        return sum(biscuit.value for biscuit in self.placed_biscuits)\n",
        "\n",
        "    def display_rolls_and_biscuits(self):\n",
        "        sorted_biscuits = sorted(self.placed_biscuits, key=lambda biscuit: biscuit.position)\n",
        "\n",
        "        print(f\"Content of the roll (length {self.roll_length}):\")\n",
        "        for defect_class, positions in self.defects.items():\n",
        "            print(f\"Defect class {defect_class}: {positions}\")\n",
        "        print(\"\\nPlaced Biscuits :\")\n",
        "        for biscuit in sorted_biscuits:\n",
        "            print(f\"{biscuit.name} at position {biscuit.position}, Length: {biscuit.length}, Value: {biscuit.value}\")\n",
        "\n",
        "\n",
        "        print(f\"Total Value : {self.total_value()}\")\n",
        "\n",
        "    def return_rolls_and_biscuits(self):\n",
        "      sorted_biscuits = sorted(self.placed_biscuits, key = lambda biscuit : biscuit.position)\n",
        "      triplet_biscuit = []\n",
        "      for biscuit in sorted_biscuits:\n",
        "        triplet_biscuit.append((biscuit.name, biscuit.position, biscuit.value))\n",
        "\n",
        "      return triplet_biscuit\n",
        "\n",
        "\n",
        "class Biscuit:\n",
        "    def __init__(self, name, length, value, max_defects, position=None):\n",
        "        self.name = name\n",
        "        self.length = length\n",
        "        self.value = value\n",
        "        self.max_defects = max_defects\n",
        "        self.position = position\n",
        "\n",
        "    def __repr__(self):\n",
        "        return f\"Biscuit(name={self.name}, length={self.length}, value={self.value})\"\n"
      ]
    },
    {
      "cell_type": "markdown",
      "metadata": {
        "id": "3iG8jPOW6JHd"
      },
      "source": [
        "Constraint verification test."
      ]
    },
    {
      "cell_type": "code",
      "execution_count": 25,
      "metadata": {
        "colab": {
          "base_uri": "https://localhost:8080/"
        },
        "id": "cfnTaSe56BvT",
        "outputId": "a0e8aa84-29b2-485a-cf87-a4f9cdbffd4d"
      },
      "outputs": [
        {
          "name": "stdout",
          "output_type": "stream",
          "text": [
            "Placement échoué: Biscuit0 en position 0\n",
            "Placement réussi: Biscuit1 en position 5\n",
            "Placement échoué: Biscuit2 en position 9\n",
            "Placement réussi: Biscuit3 en position 200\n",
            "Valeur totale des biscuits placés: 20\n",
            "Contenu du rouleau (longueur 500):\n",
            "Défauts classe a: [0.7005610475633861, 0.8481851067991264, 1.7698245161513748, 2.313037949608188, 3.701163868821245, 12.25406341855856, 14.469991818654048, 16.759229483839178, 22.438526393373454, 23.42044097400337, 23.473935119735444, 25.28261508433516, 26.880641018374785, 29.02267158055921, 32.59879378590958, 36.54714394769232, 38.9189059853659, 44.003657402852944, 46.95297032166518, 48.322000995708, 51.30891247408476, 53.17340059017883, 55.89397246197242, 58.96403782084686, 59.13188960473365, 69.42321664429218, 73.65380724843511, 76.93242986908477, 77.08567941957295, 77.90020844895041, 83.61463228838583, 85.10413501075348, 85.20819418880305, 92.49623624899968, 93.12612310082602, 93.82044969362283, 95.12812435730072, 103.91529378234338, 107.07302220659848, 108.52309512246006, 112.33708765650177, 116.452890044559, 117.0933063783251, 117.9459180999432, 118.3508693303416, 118.46517230933772, 119.691651582648, 124.74789835402656, 125.61667633781676, 125.70239174224118, 125.76264132515136, 140.9626077166077, 143.72514779853873, 143.77866790111415, 144.3588509020956, 154.99925057226716, 156.8355216204697, 158.93927019416793, 159.89540844620225, 163.02650824432436, 163.7917430214023, 163.9165054130055, 166.99078643561705, 169.93147996681913, 171.16118601282636, 172.1796789098703, 188.5890764954235, 188.6399866243082, 188.65718625304729, 189.53490845866327, 190.60115794203315, 203.66012024176965, 205.469702204988, 205.80069498110916, 212.1706763364346, 214.7629204878893, 216.1188466276893, 218.6651471271205, 223.76154304560248, 227.0342014666313, 230.0020839879249, 242.0788525481195, 242.807400021806, 242.83563595192103, 246.9629026415503, 251.5833824768312, 253.72133027108228, 270.02044749077334, 275.59715530169024, 275.71738671758885, 276.8809095912185, 277.1943482994466, 279.0519382253403, 280.4092761000628, 280.47986876600544, 284.8220949842484, 288.5819082290856, 289.02609387431653, 294.5361291841275, 301.2810691469357, 302.9767686960318, 304.2127211666455, 313.77186444978025, 314.2302722437608, 314.6171278179065, 329.36864381232715, 330.2045940812242, 332.01350118953224, 334.5768199943377, 340.30429618176413, 348.30138144264214, 356.8414017746271, 362.4263055491296, 364.6438800156029, 365.8992553018372, 367.2495656774916, 368.4285620724431, 368.8939083383807, 369.8455628125001, 371.69479069034776, 373.9699624092451, 380.27925129632325, 385.6700853676268, 391.919547713415, 392.7584952223231, 405.2093087836572, 406.8025900695063, 408.5950137407677, 409.8144307500231, 414.1207872868155, 416.6722776238397, 426.1950037108285, 426.70323172844576, 429.6290616228424, 430.2624902247782, 431.4885135121656, 437.976765887249, 438.0619578380398, 438.6050727908989, 440.9426606333361, 443.5663536577713, 445.8626483308727, 446.1000207763673, 446.6854841437733, 449.21602376320834, 453.1698599920337, 456.422082851216, 457.419132049754, 462.9585152045088, 464.3849263348453, 469.45441144905016, 475.086817076099, 477.1077028954659, 478.00104495634855, 478.0781367774724, 481.0210081862878, 482.6016702825325, 483.9883382659252, 484.2130487966538, 484.3287314521548, 488.3061935192584, 489.848951270758, 496.4114409780646, 497.37066650031664]\n",
            "Défauts classe b: [2.2072298478902352, 3.998342415845013, 10.163897954800216, 19.115527187624547, 21.537115691412755, 22.780620130994244, 30.24991328762089, 33.915850456429695, 34.68761156005529, 35.70152756218919, 36.23444047802449, 37.192282741607904, 44.54547556772964, 46.04782897396176, 48.33523829102493, 51.23393703610707, 54.72170528965148, 59.96662140961073, 68.99808200181634, 72.03919351394411, 72.49116957484297, 82.34827856600208, 82.66811334549013, 83.48382700160573, 96.45697921373396, 107.07055199133764, 116.02718443768288, 117.41159820940868, 122.52410539617536, 123.37745048417496, 127.9362147333995, 129.0445586118814, 139.52551207502518, 141.41439838979252, 146.00833972128913, 148.1211721897623, 153.39190949860082, 154.4729369809341, 156.79452239165255, 157.23156662369698, 157.37218007057768, 157.57717778953997, 161.9654216496071, 163.69738789361585, 166.06160605535618, 166.1054443755639, 166.98327003561226, 168.1793556493449, 168.72405678438662, 171.55890817166824, 173.74499986104442, 176.63364372846806, 179.7202113074844, 179.99452422810447, 184.03366295453333, 184.33754098358256, 184.97143410085937, 185.28717267721143, 186.34165291174585, 187.49521802686647, 190.6362237560571, 191.50871324174045, 192.44976302469016, 200.24499785698407, 209.30878918559745, 213.3613083893892, 214.35257928274345, 216.90090960840277, 221.45714227309537, 227.32102658218923, 234.38278899534745, 235.045462540511, 241.09408676648647, 241.12857918920687, 241.5318068991546, 242.19682775192152, 245.3952745875833, 248.72068458751903, 251.27379872437237, 257.8751180068718, 258.0537260929408, 259.331896879294, 267.7276626358022, 269.81593830792065, 270.289884791512, 272.5340720865745, 275.04185505346004, 275.5382292025181, 281.8434403754348, 284.3784560262354, 285.80818380210627, 289.67861866874034, 291.15875847332035, 292.4691743363177, 293.71688934455545, 294.5589232636277, 294.7034353460378, 296.0161032798912, 301.80983897002284, 302.7098132744354, 304.75422169144974, 310.02421188179625, 315.4289324531128, 321.205828781942, 324.33008565555184, 332.307374818348, 332.6392861077555, 334.42184109060685, 335.22854280658385, 338.7612042572256, 344.4096199355078, 347.09605491916665, 351.2737991770905, 352.92593646245234, 353.38327497071475, 355.36062568552785, 357.3007319289289, 358.14816944911064, 360.02906213376235, 363.58429533372384, 371.4296822678327, 377.67533549688414, 379.41375591776847, 381.800686534699, 382.49485324416673, 383.3986410308783, 386.11144024497736, 386.5780419182157, 391.2670270964573, 395.0148090421849, 398.3493554886154, 401.7186692004645, 403.67190162433263, 405.1806201616113, 410.1481520022799, 410.9600771362237, 412.78951367917807, 413.0806900566957, 418.6563153902847, 421.1695663184974, 421.1742327175498, 426.5292603781276, 429.984135069169, 436.1315993027571, 439.9956837092161, 444.1368084108559, 446.9990481176022, 456.5283594246528, 469.3048167942084, 472.7286856060703, 475.38704565137607, 480.5843352543929, 482.2045824821856, 484.1606702022739, 484.6624449266972, 491.6124874179856, 492.2768296165978, 493.3535732369102, 496.42967880711456]\n",
            "Défauts classe c: [8.757472196774362, 9.122731070269063, 9.956195607953632, 10.755052547797462, 16.082989206687603, 26.57100224224146, 35.441666708645904, 39.6321034472652, 39.95757923878085, 40.53052726157463, 40.6270946823416, 41.185743121112615, 47.369805975014, 49.46750797999577, 50.60504810486022, 51.22832289662088, 51.615665076601424, 55.26603588274765, 57.5774716792582, 59.33767777729842, 59.6905759127947, 64.3505883170552, 65.48297631647509, 68.24129814466245, 72.81136443582503, 74.24620676846693, 74.67678501077907, 82.68525846795738, 83.36375486724279, 84.50165439483115, 89.71565916800856, 91.23715871205762, 94.30828365065136, 95.22414102351824, 97.25934379382456, 97.26373676428352, 97.8615297123882, 98.1691414303456, 98.48342502616752, 102.62354111695043, 107.30178750097514, 110.25394207682405, 110.31357809369348, 113.76153563968732, 113.83507861075614, 115.2880129116028, 116.36305954377184, 120.72318462639616, 121.29391048056442, 123.16099599600162, 125.17281606334596, 128.3911057501805, 129.63104786015606, 136.15871922447437, 137.00279601745936, 139.53874263295617, 141.87679475713, 142.6727403845628, 143.5296603398663, 145.43473872713835, 146.4969586146166, 149.33802645264194, 150.6936890640373, 154.8169106906197, 159.51162566435767, 163.85986048428208, 165.83026102760485, 171.49235323796574, 172.81373376890747, 174.9688027897592, 178.55286206206057, 178.6856026487644, 179.49115023151518, 183.83833125111843, 184.4284604403048, 184.45035707532105, 184.5086440662264, 191.56820616151228, 194.58982665392887, 196.8884654331501, 198.88803766216523, 201.4958212018979, 203.4403381871228, 206.65303055814667, 209.032431575838, 210.40348877148543, 214.93001983045437, 216.5916528857133, 228.2955272895332, 231.45647548453064, 234.0729548986853, 240.0987747370945, 241.69200813511023, 244.0881857501757, 246.674501771966, 247.293403606044, 248.04615759462877, 253.9602906499759, 255.49008744411796, 257.09668548625007, 260.466925884756, 264.0404135757783, 265.1065799479194, 273.7141079284804, 277.3845436756075, 279.4454202372886, 282.00911997734994, 283.6209482911082, 292.4645079514154, 293.74451936683954, 299.60241085131446, 300.5101350198599, 301.18461312556184, 304.7960303656146, 306.2012676236744, 308.4216762293146, 311.32414182139394, 312.9624330312658, 316.5279366006919, 317.1948339039518, 318.364926643659, 328.3756121545746, 342.271313787284, 342.65158129802404, 345.8185675342769, 347.1462003357735, 350.62110021649664, 351.2915690579283, 354.9727973227704, 355.3185512977219, 355.44933495113816, 357.3679573419684, 362.7517836364532, 367.6738857180436, 370.5129856751142, 372.1751485722425, 373.536696700183, 374.3195249187137, 375.56610786236087, 376.9138217366792, 381.28328629259136, 383.43526334734537, 383.6856087757138, 390.1083503381975, 395.64337374148624, 401.42223511282566, 401.5604273864869, 402.0292555082672, 406.04453043886735, 408.4850238435651, 412.80052090148536, 415.4368034546659, 422.4458661281884, 424.36774973255547, 427.23398702140906, 427.912383219456, 431.833901528095, 433.0622007431795, 433.97378935482544, 435.02846071222535, 437.5767510731888, 444.2426184998886, 447.3306823437512, 451.90616726801113, 456.9316242835202, 460.5819424649071, 469.50628564110417, 471.6955851081911, 476.2527102063123, 479.98709558039855, 480.3801869770805, 483.6493246231158, 483.8633388856526, 487.23162710149353, 490.3842550548528, 498.4556120677327, 499.4034453437628]\n",
            "\n",
            "Biscuits placés :\n",
            "Biscuit1 à la position 5, Longueur: 8, Valeur: 12\n",
            "Biscuit3 à la position 200, Longueur: 5, Valeur: 8\n",
            "Valeur totale: 20\n",
            "[('Biscuit1', 5, 12), ('Biscuit3', 200, 8)]\n"
          ]
        }
      ],
      "source": [
        "biscuit0 = Biscuit(name='Biscuit0', length=4, value=6, max_defects={'a': 4, 'b': 2, 'c': 3})\n",
        "biscuit1 = Biscuit(name='Biscuit1', length=8, value=12, max_defects={'a': 5, 'b': 4, 'c': 4})\n",
        "biscuit2 = Biscuit(name='Biscuit2', length=2, value=1, max_defects={'a': 1, 'b': 2, 'c': 1})\n",
        "biscuit3 = Biscuit(name='Biscuit3', length=5, value=8, max_defects={'a': 2, 'b': 3, 'c': 2})\n",
        "\n",
        "\n",
        "problem = BiscuitPlacementProblem(roll_length=500, defect_file=\"/content/sample_data/defects.csv\")\n",
        "\n",
        "problem.add_biscuit_type(biscuit0)\n",
        "problem.add_biscuit_type(biscuit1)\n",
        "problem.add_biscuit_type(biscuit2)\n",
        "problem.add_biscuit_type(biscuit3)\n",
        "\n",
        "\n",
        "placements = [\n",
        "    (biscuit0, 0),  # We are trying to place biscuit0 at position 0.\n",
        "    (biscuit1, 5),  # We are trying to place biscuit1 at position 5\n",
        "    (biscuit2, 9), # We are trying to place biscuit2 at position 9\n",
        "    (biscuit3, 200)  # We are trying to place biscuit3 at position 200\n",
        "]\n",
        "\n",
        "for biscuit, position in placements:\n",
        "    if problem.place_biscuit(biscuit, position):\n",
        "        print(f\"Placement successful: {biscuit.name} at position {position}\")\n",
        "    else:\n",
        "        print(f\"Placement failed: {biscuit.name} at position {position}\")\n",
        "\n",
        "\n",
        "print(f\"Total Value of placed biscuits : {problem.total_value()}\")\n",
        "\n",
        "problem.display_rolls_and_biscuits()\n",
        "#print(problem.return_rolls_and_biscuits())\n"
      ]
    },
    {
      "cell_type": "code",
      "execution_count": 19,
      "metadata": {
        "colab": {
          "base_uri": "https://localhost:8080/"
        },
        "id": "s5DZdO7a6EfX",
        "outputId": "5b6e65bb-92e9-455f-d605-0f98b22f5ed6"
      },
      "outputs": [
        {
          "name": "stdout",
          "output_type": "stream",
          "text": [
            "            x class\n",
            "61   3.998342     b\n",
            "403  3.701164     a\n"
          ]
        }
      ],
      "source": [
        "import pandas as pd\n",
        "\n",
        "df = pd.read_csv(\"/content/sample_data/defects.csv\", sep=',')\n",
        "\n",
        "masque = df['x'].apply(lambda x: str(x).startswith('3.'))\n",
        "\n",
        "lignes_filtrées = df[masque]\n",
        "\n",
        "print(lignes_filtrées)"
      ]
    },
    {
      "cell_type": "markdown",
      "metadata": {
        "id": "ZKgmYtWD6Fdk"
      },
      "source": [
        "It's not possible to place biscuit 0 at position 0 because the maximum threshold of 4 defects for class A is not met (we have 5 defects for class A in the range [0,3])."
      ]
    },
    {
      "cell_type": "markdown",
      "metadata": {
        "id": "4HMjqBi_6Uoi"
      },
      "source": [
        "Greedy Algorithm"
      ]
    },
    {
      "cell_type": "markdown",
      "metadata": {
        "id": "1tklaG0E9LJ1"
      },
      "source": [
        "- Sort the biscuits by value per unit of length: This prioritizes biscuits that offer the best ratio between value and space occupation.\n",
        "\n",
        "- Place one biscuit at a time: Try to place the most 'efficient' biscuit (best value/length ratio) each time. After each successful placement, recalculate the best biscuit to place next.\n",
        "\n",
        "- Continue until space is exhausted: Stop the algorithm once no more biscuits can be placed."
      ]
    },
    {
      "cell_type": "code",
      "execution_count": 32,
      "metadata": {
        "colab": {
          "base_uri": "https://localhost:8080/"
        },
        "id": "qeqpD0QH-ohV",
        "outputId": "f794dbdd-3ba1-4685-f4e8-c08e07c25e30"
      },
      "outputs": [
        {
          "name": "stdout",
          "output_type": "stream",
          "text": [
            "Contenu du rouleau (longueur 500):\n",
            "Défauts classe a: [0.7005610475633861, 0.8481851067991264, 1.7698245161513748, 2.313037949608188, 3.701163868821245, 12.25406341855856, 14.469991818654048, 16.759229483839178, 22.438526393373454, 23.42044097400337, 23.473935119735444, 25.28261508433516, 26.880641018374785, 29.02267158055921, 32.59879378590958, 36.54714394769232, 38.9189059853659, 44.003657402852944, 46.95297032166518, 48.322000995708, 51.30891247408476, 53.17340059017883, 55.89397246197242, 58.96403782084686, 59.13188960473365, 69.42321664429218, 73.65380724843511, 76.93242986908477, 77.08567941957295, 77.90020844895041, 83.61463228838583, 85.10413501075348, 85.20819418880305, 92.49623624899968, 93.12612310082602, 93.82044969362283, 95.12812435730072, 103.91529378234338, 107.07302220659848, 108.52309512246006, 112.33708765650177, 116.452890044559, 117.0933063783251, 117.9459180999432, 118.3508693303416, 118.46517230933772, 119.691651582648, 124.74789835402656, 125.61667633781676, 125.70239174224118, 125.76264132515136, 140.9626077166077, 143.72514779853873, 143.77866790111415, 144.3588509020956, 154.99925057226716, 156.8355216204697, 158.93927019416793, 159.89540844620225, 163.02650824432436, 163.7917430214023, 163.9165054130055, 166.99078643561705, 169.93147996681913, 171.16118601282636, 172.1796789098703, 188.5890764954235, 188.6399866243082, 188.65718625304729, 189.53490845866327, 190.60115794203315, 203.66012024176965, 205.469702204988, 205.80069498110916, 212.1706763364346, 214.7629204878893, 216.1188466276893, 218.6651471271205, 223.76154304560248, 227.0342014666313, 230.0020839879249, 242.0788525481195, 242.807400021806, 242.83563595192103, 246.9629026415503, 251.5833824768312, 253.72133027108228, 270.02044749077334, 275.59715530169024, 275.71738671758885, 276.8809095912185, 277.1943482994466, 279.0519382253403, 280.4092761000628, 280.47986876600544, 284.8220949842484, 288.5819082290856, 289.02609387431653, 294.5361291841275, 301.2810691469357, 302.9767686960318, 304.2127211666455, 313.77186444978025, 314.2302722437608, 314.6171278179065, 329.36864381232715, 330.2045940812242, 332.01350118953224, 334.5768199943377, 340.30429618176413, 348.30138144264214, 356.8414017746271, 362.4263055491296, 364.6438800156029, 365.8992553018372, 367.2495656774916, 368.4285620724431, 368.8939083383807, 369.8455628125001, 371.69479069034776, 373.9699624092451, 380.27925129632325, 385.6700853676268, 391.919547713415, 392.7584952223231, 405.2093087836572, 406.8025900695063, 408.5950137407677, 409.8144307500231, 414.1207872868155, 416.6722776238397, 426.1950037108285, 426.70323172844576, 429.6290616228424, 430.2624902247782, 431.4885135121656, 437.976765887249, 438.0619578380398, 438.6050727908989, 440.9426606333361, 443.5663536577713, 445.8626483308727, 446.1000207763673, 446.6854841437733, 449.21602376320834, 453.1698599920337, 456.422082851216, 457.419132049754, 462.9585152045088, 464.3849263348453, 469.45441144905016, 475.086817076099, 477.1077028954659, 478.00104495634855, 478.0781367774724, 481.0210081862878, 482.6016702825325, 483.9883382659252, 484.2130487966538, 484.3287314521548, 488.3061935192584, 489.848951270758, 496.4114409780646, 497.37066650031664]\n",
            "Défauts classe b: [2.2072298478902352, 3.998342415845013, 10.163897954800216, 19.115527187624547, 21.537115691412755, 22.780620130994244, 30.24991328762089, 33.915850456429695, 34.68761156005529, 35.70152756218919, 36.23444047802449, 37.192282741607904, 44.54547556772964, 46.04782897396176, 48.33523829102493, 51.23393703610707, 54.72170528965148, 59.96662140961073, 68.99808200181634, 72.03919351394411, 72.49116957484297, 82.34827856600208, 82.66811334549013, 83.48382700160573, 96.45697921373396, 107.07055199133764, 116.02718443768288, 117.41159820940868, 122.52410539617536, 123.37745048417496, 127.9362147333995, 129.0445586118814, 139.52551207502518, 141.41439838979252, 146.00833972128913, 148.1211721897623, 153.39190949860082, 154.4729369809341, 156.79452239165255, 157.23156662369698, 157.37218007057768, 157.57717778953997, 161.9654216496071, 163.69738789361585, 166.06160605535618, 166.1054443755639, 166.98327003561226, 168.1793556493449, 168.72405678438662, 171.55890817166824, 173.74499986104442, 176.63364372846806, 179.7202113074844, 179.99452422810447, 184.03366295453333, 184.33754098358256, 184.97143410085937, 185.28717267721143, 186.34165291174585, 187.49521802686647, 190.6362237560571, 191.50871324174045, 192.44976302469016, 200.24499785698407, 209.30878918559745, 213.3613083893892, 214.35257928274345, 216.90090960840277, 221.45714227309537, 227.32102658218923, 234.38278899534745, 235.045462540511, 241.09408676648647, 241.12857918920687, 241.5318068991546, 242.19682775192152, 245.3952745875833, 248.72068458751903, 251.27379872437237, 257.8751180068718, 258.0537260929408, 259.331896879294, 267.7276626358022, 269.81593830792065, 270.289884791512, 272.5340720865745, 275.04185505346004, 275.5382292025181, 281.8434403754348, 284.3784560262354, 285.80818380210627, 289.67861866874034, 291.15875847332035, 292.4691743363177, 293.71688934455545, 294.5589232636277, 294.7034353460378, 296.0161032798912, 301.80983897002284, 302.7098132744354, 304.75422169144974, 310.02421188179625, 315.4289324531128, 321.205828781942, 324.33008565555184, 332.307374818348, 332.6392861077555, 334.42184109060685, 335.22854280658385, 338.7612042572256, 344.4096199355078, 347.09605491916665, 351.2737991770905, 352.92593646245234, 353.38327497071475, 355.36062568552785, 357.3007319289289, 358.14816944911064, 360.02906213376235, 363.58429533372384, 371.4296822678327, 377.67533549688414, 379.41375591776847, 381.800686534699, 382.49485324416673, 383.3986410308783, 386.11144024497736, 386.5780419182157, 391.2670270964573, 395.0148090421849, 398.3493554886154, 401.7186692004645, 403.67190162433263, 405.1806201616113, 410.1481520022799, 410.9600771362237, 412.78951367917807, 413.0806900566957, 418.6563153902847, 421.1695663184974, 421.1742327175498, 426.5292603781276, 429.984135069169, 436.1315993027571, 439.9956837092161, 444.1368084108559, 446.9990481176022, 456.5283594246528, 469.3048167942084, 472.7286856060703, 475.38704565137607, 480.5843352543929, 482.2045824821856, 484.1606702022739, 484.6624449266972, 491.6124874179856, 492.2768296165978, 493.3535732369102, 496.42967880711456]\n",
            "Défauts classe c: [8.757472196774362, 9.122731070269063, 9.956195607953632, 10.755052547797462, 16.082989206687603, 26.57100224224146, 35.441666708645904, 39.6321034472652, 39.95757923878085, 40.53052726157463, 40.6270946823416, 41.185743121112615, 47.369805975014, 49.46750797999577, 50.60504810486022, 51.22832289662088, 51.615665076601424, 55.26603588274765, 57.5774716792582, 59.33767777729842, 59.6905759127947, 64.3505883170552, 65.48297631647509, 68.24129814466245, 72.81136443582503, 74.24620676846693, 74.67678501077907, 82.68525846795738, 83.36375486724279, 84.50165439483115, 89.71565916800856, 91.23715871205762, 94.30828365065136, 95.22414102351824, 97.25934379382456, 97.26373676428352, 97.8615297123882, 98.1691414303456, 98.48342502616752, 102.62354111695043, 107.30178750097514, 110.25394207682405, 110.31357809369348, 113.76153563968732, 113.83507861075614, 115.2880129116028, 116.36305954377184, 120.72318462639616, 121.29391048056442, 123.16099599600162, 125.17281606334596, 128.3911057501805, 129.63104786015606, 136.15871922447437, 137.00279601745936, 139.53874263295617, 141.87679475713, 142.6727403845628, 143.5296603398663, 145.43473872713835, 146.4969586146166, 149.33802645264194, 150.6936890640373, 154.8169106906197, 159.51162566435767, 163.85986048428208, 165.83026102760485, 171.49235323796574, 172.81373376890747, 174.9688027897592, 178.55286206206057, 178.6856026487644, 179.49115023151518, 183.83833125111843, 184.4284604403048, 184.45035707532105, 184.5086440662264, 191.56820616151228, 194.58982665392887, 196.8884654331501, 198.88803766216523, 201.4958212018979, 203.4403381871228, 206.65303055814667, 209.032431575838, 210.40348877148543, 214.93001983045437, 216.5916528857133, 228.2955272895332, 231.45647548453064, 234.0729548986853, 240.0987747370945, 241.69200813511023, 244.0881857501757, 246.674501771966, 247.293403606044, 248.04615759462877, 253.9602906499759, 255.49008744411796, 257.09668548625007, 260.466925884756, 264.0404135757783, 265.1065799479194, 273.7141079284804, 277.3845436756075, 279.4454202372886, 282.00911997734994, 283.6209482911082, 292.4645079514154, 293.74451936683954, 299.60241085131446, 300.5101350198599, 301.18461312556184, 304.7960303656146, 306.2012676236744, 308.4216762293146, 311.32414182139394, 312.9624330312658, 316.5279366006919, 317.1948339039518, 318.364926643659, 328.3756121545746, 342.271313787284, 342.65158129802404, 345.8185675342769, 347.1462003357735, 350.62110021649664, 351.2915690579283, 354.9727973227704, 355.3185512977219, 355.44933495113816, 357.3679573419684, 362.7517836364532, 367.6738857180436, 370.5129856751142, 372.1751485722425, 373.536696700183, 374.3195249187137, 375.56610786236087, 376.9138217366792, 381.28328629259136, 383.43526334734537, 383.6856087757138, 390.1083503381975, 395.64337374148624, 401.42223511282566, 401.5604273864869, 402.0292555082672, 406.04453043886735, 408.4850238435651, 412.80052090148536, 415.4368034546659, 422.4458661281884, 424.36774973255547, 427.23398702140906, 427.912383219456, 431.833901528095, 433.0622007431795, 433.97378935482544, 435.02846071222535, 437.5767510731888, 444.2426184998886, 447.3306823437512, 451.90616726801113, 456.9316242835202, 460.5819424649071, 469.50628564110417, 471.6955851081911, 476.2527102063123, 479.98709558039855, 480.3801869770805, 483.6493246231158, 483.8633388856526, 487.23162710149353, 490.3842550548528, 498.4556120677327, 499.4034453437628]\n",
            "\n",
            "Biscuits placés :\n",
            "Biscuit 3 à la position 2, Longueur: 5, Valeur: 8\n",
            "Biscuit 2 à la position 7, Longueur: 2, Valeur: 1\n",
            "Biscuit 0 à la position 9, Longueur: 4, Valeur: 6\n",
            "Biscuit 1 à la position 13, Longueur: 8, Valeur: 12\n",
            "Biscuit 2 à la position 21, Longueur: 2, Valeur: 1\n",
            "Biscuit 3 à la position 24, Longueur: 5, Valeur: 8\n",
            "Biscuit 0 à la position 29, Longueur: 4, Valeur: 6\n",
            "Biscuit 2 à la position 33, Longueur: 2, Valeur: 1\n",
            "Biscuit 0 à la position 36, Longueur: 4, Valeur: 6\n",
            "Biscuit 1 à la position 40, Longueur: 8, Valeur: 12\n",
            "Biscuit 2 à la position 48, Longueur: 2, Valeur: 1\n",
            "Biscuit 3 à la position 52, Longueur: 5, Valeur: 8\n",
            "Biscuit 1 à la position 57, Longueur: 8, Valeur: 12\n",
            "Biscuit 3 à la position 65, Longueur: 5, Valeur: 8\n",
            "Biscuit 0 à la position 70, Longueur: 4, Valeur: 6\n",
            "Biscuit 1 à la position 74, Longueur: 8, Valeur: 12\n",
            "Biscuit 3 à la position 84, Longueur: 5, Valeur: 8\n",
            "Biscuit 0 à la position 89, Longueur: 4, Valeur: 6\n",
            "Biscuit 2 à la position 95, Longueur: 2, Valeur: 1\n",
            "Biscuit 1 à la position 98, Longueur: 8, Valeur: 12\n",
            "Biscuit 2 à la position 106, Longueur: 2, Valeur: 1\n",
            "Biscuit 3 à la position 108, Longueur: 5, Valeur: 8\n",
            "Biscuit 0 à la position 114, Longueur: 4, Valeur: 6\n",
            "Biscuit 1 à la position 119, Longueur: 8, Valeur: 12\n",
            "Biscuit 3 à la position 127, Longueur: 5, Valeur: 8\n",
            "Biscuit 0 à la position 132, Longueur: 4, Valeur: 6\n",
            "Biscuit 2 à la position 137, Longueur: 2, Valeur: 1\n",
            "Biscuit 0 à la position 139, Longueur: 4, Valeur: 6\n",
            "Biscuit 1 à la position 144, Longueur: 8, Valeur: 12\n",
            "Biscuit 3 à la position 152, Longueur: 5, Valeur: 8\n",
            "Biscuit 1 à la position 158, Longueur: 8, Valeur: 12\n",
            "Biscuit 2 à la position 167, Longueur: 2, Valeur: 1\n",
            "Biscuit 2 à la position 169, Longueur: 2, Valeur: 1\n",
            "Biscuit 3 à la position 172, Longueur: 5, Valeur: 8\n",
            "Biscuit 0 à la position 177, Longueur: 4, Valeur: 6\n",
            "Biscuit 2 à la position 181, Longueur: 2, Valeur: 1\n",
            "Biscuit 2 à la position 185, Longueur: 2, Valeur: 1\n",
            "Biscuit 1 à la position 187, Longueur: 8, Valeur: 12\n",
            "Biscuit 3 à la position 195, Longueur: 5, Valeur: 8\n",
            "Biscuit 0 à la position 200, Longueur: 4, Valeur: 6\n",
            "Biscuit 1 à la position 204, Longueur: 8, Valeur: 12\n",
            "Biscuit 3 à la position 213, Longueur: 5, Valeur: 8\n",
            "Biscuit 0 à la position 218, Longueur: 4, Valeur: 6\n",
            "Biscuit 1 à la position 222, Longueur: 8, Valeur: 12\n",
            "Biscuit 3 à la position 230, Longueur: 5, Valeur: 8\n",
            "Biscuit 0 à la position 235, Longueur: 4, Valeur: 6\n",
            "Biscuit 2 à la position 239, Longueur: 2, Valeur: 1\n",
            "Biscuit 1 à la position 242, Longueur: 8, Valeur: 12\n",
            "Biscuit 3 à la position 250, Longueur: 5, Valeur: 8\n",
            "Biscuit 0 à la position 255, Longueur: 4, Valeur: 6\n",
            "Biscuit 1 à la position 259, Longueur: 8, Valeur: 12\n",
            "Biscuit 2 à la position 267, Longueur: 2, Valeur: 1\n",
            "Biscuit 3 à la position 269, Longueur: 5, Valeur: 8\n",
            "Biscuit 0 à la position 274, Longueur: 4, Valeur: 6\n",
            "Biscuit 1 à la position 278, Longueur: 8, Valeur: 12\n",
            "Biscuit 2 à la position 286, Longueur: 2, Valeur: 1\n",
            "Biscuit 3 à la position 288, Longueur: 5, Valeur: 8\n",
            "Biscuit 0 à la position 295, Longueur: 4, Valeur: 6\n",
            "Biscuit 1 à la position 300, Longueur: 8, Valeur: 12\n",
            "Biscuit 2 à la position 308, Longueur: 2, Valeur: 1\n",
            "Biscuit 0 à la position 310, Longueur: 4, Valeur: 6\n",
            "Biscuit 2 à la position 315, Longueur: 2, Valeur: 1\n",
            "Biscuit 3 à la position 317, Longueur: 5, Valeur: 8\n",
            "Biscuit 1 à la position 322, Longueur: 8, Valeur: 12\n",
            "Biscuit 2 à la position 330, Longueur: 2, Valeur: 1\n",
            "Biscuit 3 à la position 333, Longueur: 5, Valeur: 8\n",
            "Biscuit 0 à la position 338, Longueur: 4, Valeur: 6\n",
            "Biscuit 1 à la position 342, Longueur: 8, Valeur: 12\n",
            "Biscuit 2 à la position 351, Longueur: 2, Valeur: 1\n",
            "Biscuit 2 à la position 353, Longueur: 2, Valeur: 1\n",
            "Biscuit 3 à la position 356, Longueur: 5, Valeur: 8\n",
            "Biscuit 0 à la position 361, Longueur: 4, Valeur: 6\n",
            "Biscuit 0 à la position 365, Longueur: 4, Valeur: 6\n",
            "Biscuit 0 à la position 369, Longueur: 4, Valeur: 6\n",
            "Biscuit 1 à la position 373, Longueur: 8, Valeur: 12\n",
            "Biscuit 2 à la position 381, Longueur: 2, Valeur: 1\n",
            "Biscuit 3 à la position 383, Longueur: 5, Valeur: 8\n",
            "Biscuit 1 à la position 388, Longueur: 8, Valeur: 12\n",
            "Biscuit 3 à la position 396, Longueur: 5, Valeur: 8\n",
            "Biscuit 1 à la position 402, Longueur: 8, Valeur: 12\n",
            "Biscuit 3 à la position 411, Longueur: 5, Valeur: 8\n",
            "Biscuit 0 à la position 416, Longueur: 4, Valeur: 6\n",
            "Biscuit 1 à la position 420, Longueur: 8, Valeur: 12\n",
            "Biscuit 2 à la position 428, Longueur: 2, Valeur: 1\n",
            "Biscuit 0 à la position 430, Longueur: 4, Valeur: 6\n",
            "Biscuit 2 à la position 434, Longueur: 2, Valeur: 1\n",
            "Biscuit 2 à la position 436, Longueur: 2, Valeur: 1\n",
            "Biscuit 3 à la position 439, Longueur: 5, Valeur: 8\n",
            "Biscuit 1 à la position 444, Longueur: 8, Valeur: 12\n",
            "Biscuit 3 à la position 452, Longueur: 5, Valeur: 8\n",
            "Biscuit 0 à la position 457, Longueur: 4, Valeur: 6\n",
            "Biscuit 1 à la position 461, Longueur: 8, Valeur: 12\n",
            "Biscuit 3 à la position 469, Longueur: 5, Valeur: 8\n",
            "Biscuit 0 à la position 474, Longueur: 4, Valeur: 6\n",
            "Biscuit 1 à la position 479, Longueur: 8, Valeur: 12\n",
            "Biscuit 2 à la position 487, Longueur: 2, Valeur: 1\n",
            "Biscuit 3 à la position 489, Longueur: 5, Valeur: 8\n",
            "Biscuit 0 à la position 494, Longueur: 4, Valeur: 6\n",
            "Valeur totale: 662\n"
          ]
        }
      ],
      "source": [
        "import pandas as pd\n",
        "\n",
        "def greedy_algo(problem, biscuit_types):\n",
        "    biscuit_index = 0\n",
        "    num_biscuit_types = len(biscuit_types)\n",
        "\n",
        "    while biscuit_types:\n",
        "\n",
        "        biscuit_types.sort(key=lambda x: -x.value / x.length)\n",
        "\n",
        "        placed = False\n",
        "        for i in range(num_biscuit_types):\n",
        "            biscuit = biscuit_types[(biscuit_index + i) % num_biscuit_types]\n",
        "            for position in range(problem.roll_length - biscuit.length + 1):\n",
        "                if problem.place_biscuit(biscuit, position):\n",
        "                    placed = True\n",
        "                    break\n",
        "            if placed:\n",
        "                biscuit_index = (biscuit_index + i + 1) % num_biscuit_types\n",
        "                break\n",
        "        if not placed:\n",
        "            break\n",
        "\n",
        "\n",
        "    problem.display_rolls_and_biscuits()\n",
        "    #return problem.return_rolls_and_biscuits()\n",
        "\n",
        "\n",
        "\n",
        "\n",
        "problem = BiscuitPlacementProblem(500, \"/content/sample_data/defects.csv\")\n",
        "\n",
        "\n",
        "biscuit_types = [\n",
        "    Biscuit('Biscuit 0', 4, 6, {'a': 4, 'b': 2, 'c': 3}),\n",
        "    Biscuit('Biscuit 1', 8, 12, {'a': 5, 'b': 4, 'c': 4}),\n",
        "    Biscuit('Biscuit 2', 2, 1, {'a': 1, 'b': 2, 'c': 1}),\n",
        "    Biscuit('Biscuit 3', 5, 8, {'a': 2, 'b': 3, 'c': 2}),\n",
        "]\n",
        "\n",
        "greedy_algo(problem, biscuit_types)\n",
        "#greedy = greedy_algo(problem, biscuit_types)\n",
        "#print(greedy)"
      ]
    },
    {
      "cell_type": "markdown",
      "metadata": {
        "id": "7uHwV8csoN6l"
      },
      "source": [
        "Let's analyze the distribution of the placed biscuits with Greedy Algorithm."
      ]
    },
    {
      "cell_type": "code",
      "execution_count": 30,
      "metadata": {
        "colab": {
          "base_uri": "https://localhost:8080/",
          "height": 607
        },
        "id": "SAxGNKQXPlL-",
        "outputId": "2deda256-423a-4800-feb5-e0534b3b4b00"
      },
      "outputs": [
        {
          "data": {
            "image/png": "[encoded data removed]",
            "text/plain": [
              "<Figure size 1000x600 with 1 Axes>"
            ]
          },
          "metadata": {},
          "output_type": "display_data"
        }
      ],
      "source": [
        "import matplotlib.pyplot as plt\n",
        "\n",
        "solution_df = pd.DataFrame(greedy, columns=['BiscuitType', 'Position','Value'])\n",
        "\n",
        "\n",
        "biscuit_counts = solution_df['BiscuitType'].value_counts()\n",
        "\n",
        "\n",
        "plt.figure(figsize=(10, 6))\n",
        "biscuit_counts.plot(kind='bar')\n",
        "plt.title('Number of Biscuits Placed by Category')\n",
        "plt.xlabel('Biscuit Category')\n",
        "plt.ylabel('Count')\n",
        "plt.xticks(rotation=45)\n",
        "plt.tight_layout()\n",
        "\n",
        "\n",
        "plt.show()"
      ]
    },
    {
      "cell_type": "markdown",
      "metadata": {
        "id": "uCOKhktxIOko"
      },
      "source": [
        "How to define a population ?"
      ]
    },
    {
      "cell_type": "code",
      "execution_count": null,
      "metadata": {
        "id": "v0wGlwaJXhzI"
      },
      "outputs": [],
      "source": [
        "population_size = 10\n",
        "problem = BiscuitPlacementProblem(500, \"/content/sample_data/defects.csv\")\n"
      ]
    },
    {
      "cell_type": "markdown",
      "metadata": {
        "id": "9oK58Pf2RMC8"
      },
      "source": [
        "Genetic Algorithm"
      ]
    },
    {
      "cell_type": "code",
      "execution_count": 33,
      "metadata": {
        "colab": {
          "base_uri": "https://localhost:8080/"
        },
        "id": "IzKHUP4NvUJk",
        "outputId": "0ca89f41-1df4-40c6-f6d9-87461aa95e3b"
      },
      "outputs": [
        {
          "name": "stdout",
          "output_type": "stream",
          "text": [
            "[('Biscuit 0', 1, 6), ('Biscuit 2', 5, 1), ('Biscuit 1', 8, 12), ('Biscuit 0', 16, 6), ('Biscuit 0', 20, 6), ('Biscuit 1', 24, 12), ('Biscuit 2', 34, 1), ('Biscuit 0', 36, 6), ('Biscuit 0', 40, 6), ('Biscuit 0', 44, 6), ('Biscuit 0', 50, 6), ('Biscuit 1', 54, 12), ('Biscuit 1', 62, 12), ('Biscuit 0', 70, 6), ('Biscuit 1', 74, 12), ('Biscuit 1', 83, 12), ('Biscuit 0', 91, 6), ('Biscuit 0', 98, 6), ('Biscuit 0', 102, 6), ('Biscuit 0', 108, 6), ('Biscuit 0', 114, 6), ('Biscuit 2', 119, 1), ('Biscuit 2', 121, 1), ('Biscuit 1', 123, 12), ('Biscuit 1', 131, 12), ('Biscuit 0', 141, 6), ('Biscuit 1', 145, 12), ('Biscuit 2', 154, 1), ('Biscuit 1', 158, 12), ('Biscuit 3', 167, 8), ('Biscuit 2', 172, 1), ('Biscuit 0', 174, 6), ('Biscuit 0', 179, 6), ('Biscuit 1', 188, 12), ('Biscuit 3', 196, 8), ('Biscuit 1', 201, 12), ('Biscuit 3', 209, 8), ('Biscuit 1', 214, 12), ('Biscuit 2', 222, 1), ('Biscuit 0', 224, 6), ('Biscuit 1', 228, 12), ('Biscuit 1', 236, 12), ('Biscuit 0', 244, 6), ('Biscuit 1', 248, 12), ('Biscuit 1', 256, 12), ('Biscuit 3', 264, 8), ('Biscuit 2', 269, 1), ('Biscuit 0', 271, 6), ('Biscuit 1', 276, 12), ('Biscuit 2', 284, 1), ('Biscuit 0', 286, 6), ('Biscuit 2', 294, 1), ('Biscuit 0', 296, 6), ('Biscuit 1', 300, 12), ('Biscuit 2', 308, 1), ('Biscuit 2', 310, 1), ('Biscuit 0', 312, 6), ('Biscuit 0', 316, 6), ('Biscuit 1', 320, 12), ('Biscuit 1', 328, 12), ('Biscuit 1', 336, 12), ('Biscuit 0', 344, 6), ('Biscuit 3', 348, 8), ('Biscuit 1', 356, 12), ('Biscuit 0', 365, 6), ('Biscuit 0', 370, 6), ('Biscuit 0', 374, 6), ('Biscuit 2', 378, 1), ('Biscuit 0', 382, 6), ('Biscuit 3', 386, 8), ('Biscuit 1', 391, 12), ('Biscuit 0', 400, 6), ('Biscuit 0', 404, 6), ('Biscuit 1', 408, 12), ('Biscuit 0', 416, 6), ('Biscuit 0', 420, 6), ('Biscuit 2', 424, 1), ('Biscuit 0', 427, 6), ('Biscuit 2', 431, 1), ('Biscuit 1', 433, 12), ('Biscuit 0', 441, 6), ('Biscuit 1', 445, 12), ('Biscuit 1', 453, 12), ('Biscuit 3', 461, 8), ('Biscuit 0', 466, 6), ('Biscuit 1', 470, 12), ('Biscuit 0', 479, 6), ('Biscuit 0', 483, 6), ('Biscuit 3', 487, 8), ('Biscuit 0', 492, 6), ('Biscuit 0', 496, 6)]\n"
          ]
        }
      ],
      "source": [
        "import pandas as pd\n",
        "import random\n",
        "\n",
        "def create_random_arrangement(problem):\n",
        "    arrangement = []\n",
        "    position = 0\n",
        "    while position < problem.roll_length:\n",
        "        biscuit_type = random.choice(problem.biscuit_types)\n",
        "        if problem.is_valid_placement(position, biscuit_type):\n",
        "            arrangement.append((biscuit_type, position))\n",
        "            position += biscuit_type.length\n",
        "        else:\n",
        "            position += 1\n",
        "    return arrangement\n",
        "\n",
        "\n",
        "def fitness(arrangement, problem):\n",
        "    problem.placed_biscuits.clear()  # Clear previous biscuits\n",
        "    for biscuit_type, pos in arrangement:\n",
        "        problem.place_biscuit(biscuit_type, pos)\n",
        "    return problem.total_value()\n",
        "\n",
        "\n",
        "def initialize_population(problem, population_size):\n",
        "    return [create_random_arrangement(problem) for _ in range(population_size)]\n",
        "\n",
        "\n",
        "def select_fittest(population, problem, num_parents):\n",
        "    fitness_scores = [(fitness(arrangement, problem), arrangement) for arrangement in population]\n",
        "    sorted_by_fitness = sorted(fitness_scores, key=lambda x: x[0], reverse=True)\n",
        "    return [arrangement for _, arrangement in sorted_by_fitness[:num_parents]]\n",
        "\n",
        "\n",
        "def crossover(parent1, parent2):\n",
        "    crossover_point = random.randint(1, len(parent1) - 1)\n",
        "    child1 = parent1[:crossover_point] + parent2[crossover_point:]\n",
        "    child2 = parent2[:crossover_point] + parent1[crossover_point:]\n",
        "    return [child1, child2]\n",
        "\n",
        "\n",
        "def mutate(arrangement, mutation_rate, problem):\n",
        "\n",
        "    new_arrangement = arrangement.copy()\n",
        "    for i in range(len(new_arrangement)):\n",
        "        if random.random() < mutation_rate:\n",
        "            biscuit_type, current_position = new_arrangement[i]\n",
        "            new_position = random.randint(0, problem.roll_length - biscuit_type.length)\n",
        "            problem.placed_biscuits = [b for b in problem.placed_biscuits if b.position != current_position]\n",
        "            if problem.is_valid_placement(new_position, biscuit_type):\n",
        "                new_arrangement[i] = (biscuit_type, new_position)\n",
        "\n",
        "                problem.place_biscuit(biscuit_type, new_position)\n",
        "    return new_arrangement\n",
        "\n",
        "\n",
        "\n",
        "def genetic_algorithm(problem, population_size, num_generations, mutation_rate):\n",
        "    population = initialize_population(problem, population_size)\n",
        "    for _ in range(num_generations):\n",
        "        parents = select_fittest(population, problem, population_size // 2)\n",
        "\n",
        "        next_generation = []\n",
        "        for i in range(0, len(parents), 2):\n",
        "            if i+1 < len(parents):\n",
        "                next_generation.extend(crossover(parents[i], parents[i+1]))\n",
        "\n",
        "        for individual in next_generation:\n",
        "            if random.random() < mutation_rate:\n",
        "                mutate(individual, mutation_rate, problem)\n",
        "\n",
        "        population = next_generation + parents\n",
        "\n",
        "    return select_fittest(population, problem, 1)[0]\n",
        "\n",
        "\n",
        "\n",
        "roll_length = 500\n",
        "biscuit_types = [\n",
        "    Biscuit('Biscuit 0', 4, 6, {'a': 4, 'b': 2, 'c': 3}),\n",
        "    Biscuit('Biscuit 1', 8, 12, {'a': 5, 'b': 4, 'c': 4}),\n",
        "    Biscuit('Biscuit 2', 2, 1, {'a': 1, 'b': 2, 'c': 1}),\n",
        "    Biscuit('Biscuit 3', 5, 8, {'a': 2, 'b': 3, 'c': 2}),\n",
        "]\n",
        "\n",
        "problem = BiscuitPlacementProblem(500, \"/content/sample_data/defects.csv\")\n",
        "for biscuit in biscuit_types:\n",
        "    problem.add_biscuit_type(biscuit)\n",
        "\n",
        "\n",
        "best_solution = genetic_algorithm(problem, population_size=100, num_generations=1000, mutation_rate=0.01)\n",
        "problem.display_rolls_and_biscuits()\n",
        "#genetic = problem.return_rolls_and_biscuits()\n",
        "#print(genetic)\n"
      ]
    },
    {
      "cell_type": "markdown",
      "metadata": {
        "id": "3ZMXLBZyohXJ"
      },
      "source": [
        "Let's analyze the distribution of the placed biscuits with Genetic Algorithm."
      ]
    },
    {
      "cell_type": "code",
      "execution_count": 34,
      "metadata": {
        "colab": {
          "base_uri": "https://localhost:8080/",
          "height": 607
        },
        "id": "a-2c0ui6WMlc",
        "outputId": "176005fe-905b-49be-cd5e-722fa0518fb9"
      },
      "outputs": [
        {
          "data": {
            "image/png": "[encoded data removed]",
            "text/plain": [
              "<Figure size 1000x600 with 1 Axes>"
            ]
          },
          "metadata": {},
          "output_type": "display_data"
        }
      ],
      "source": [
        "solution_df = pd.DataFrame(genetic, columns=['BiscuitType', 'Position','Value'])\n",
        "\n",
        "\n",
        "biscuit_counts = solution_df['BiscuitType'].value_counts()\n",
        "\n",
        "plt.figure(figsize=(10, 6))\n",
        "biscuit_counts.plot(kind='bar')\n",
        "plt.title('Number of Biscuits Placed by Category')\n",
        "plt.xlabel('Biscuit Category')\n",
        "plt.ylabel('Count')\n",
        "plt.xticks(rotation=45)\n",
        "plt.tight_layout()\n",
        "\n",
        "plt.show()"
      ]
    }
  ],
  "metadata": {
    "colab": {
      "provenance": []
    },
    "kernelspec": {
      "display_name": "Python 3",
      "name": "python3"
    },
    "language_info": {
      "name": "python"
    }
  },
  "nbformat": 4,
  "nbformat_minor": 0
}
